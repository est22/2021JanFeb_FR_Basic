{
 "metadata": {
  "language_info": {
   "codemirror_mode": {
    "name": "ipython",
    "version": 3
   },
   "file_extension": ".py",
   "mimetype": "text/x-python",
   "name": "python",
   "nbconvert_exporter": "python",
   "pygments_lexer": "ipython3",
   "version": "3.8.3-final"
  },
  "orig_nbformat": 2,
  "kernelspec": {
   "name": "python3",
   "display_name": "Python 3",
   "language": "python"
  }
 },
 "nbformat": 4,
 "nbformat_minor": 2,
 "cells": [
  {
   "source": [
    "# PART 2. 데이터 입출력\n",
    "## 1. 외부 파일 읽어오기\n",
    "### 1-1. CSV 파일 : read_csv()\n"
   ],
   "cell_type": "markdown",
   "metadata": {}
  },
  {
   "cell_type": "code",
   "execution_count": 4,
   "metadata": {
    "tags": []
   },
   "outputs": [
    {
     "output_type": "stream",
     "name": "stdout",
     "text": [
      "df3    counterparty_name kr_counterparty_name  \\\n0             NH농협은행            농협은행 주식회사   \n1            KDB산업은행               한국산업은행   \n2          메리츠화재해상보험         메리츠화재해상보험(주)   \n3               신한은행                 신한은행   \n4            IBK연금보험         아이비케이연금보험(주)   \n5            한국수출입은행              한국수출입은행   \n6               우리은행             (주) 우리은행   \n7             KB국민은행                 국민은행   \n8               하나은행            주식회사 하나은행   \n9              현대캐피탈            현대캐피탈주식회사   \n10            한화생명보험           한화생명보험 (주)   \n11            KB손해보험         주식회사 케이비손해보험   \n12             현대차증권             현대차증권(주)   \n13            NH투자증권          엔에이치투자증권(주)   \n14          현대해상화재보험         현대해상화재보험 (주)   \n15            한국투자증권          한국투자증권 주식회사   \n16           코리안리재보험         코리안리재보험 주식회사   \n17            동양생명보험            동양생명보험(주)   \n18          미래에셋생명보험         미래에셋생명보험주식회사   \n19            한국자금중개           한국자금중개주식회사   \n20           KDB생명보험          케이디비생명보험(주)   \n21            한화자산운용          한화자산운용 주식회사   \n22              SK증권              SK증권(주)   \n23            유진투자증권               유진투자증권   \n24              현대카드             현대카드주식회사   \n25            신한금융투자           신한금융투자 (주)   \n26           IBK투자증권       아이비케이투자증권 주식회사   \n27          교보악사자산운용          교보악사자산운용(주)   \n28          키움투자자산운용          키움투자자산운용(주)   \n29              하나은행            주식회사 하나은행   \n30          삼성화재해상보험        삼성화재해상보험 주식회사   \n31            미래에셋대우          미래에셋대우 주식회사   \n32            삼성자산운용           삼성자산운용 (주)   \n33            하나금융투자            하나금융투자(주)   \n34            흥국생명보험           흥국생명보험 (주)   \n35            한국장학재단            (재)한국장학재단   \n\n                         en_counterparty_name                   LEI  \\\n0                               NONGHYUP BANK  988400GSDJCW3LKJBD20   \n1                      KOREA DEVELOPMENT BANK  549300ML2LNRZUCS7149   \n2      Meritz Fire & Marine Insurance Co.,Ltd  9884007PON6UA8YN6V50   \n3                                SHINHAN BANK  5493003P813VL21KG928   \n4                      IBK INSURANCE Co.,Ltd.  9884007YD36KPD1S7H59   \n5             The Export-Import Bank of Korea  549300APVP4R32PI3Y06   \n6                                  Woori Bank  549300VUVMRL6RE7R376   \n7                       Kookmin Bank CO.,LTD.  549300XXMOJSIW8P4769   \n8                               KEB HANA BANK  6RPK2YDJN6L35AS0M510   \n9              Hyundai Capital Services, Inc.  549300MALMDAGL2ZJJ27   \n10            Hanwha Life Insurance Co., Ltd.  988400ZKCI3R9DQHR320   \n11                     KB Insurance Co., Ltd.  988400A2WKKLCWUEW716   \n12         HYUNDAI MOTOR SECURITIES CO,, LTD.  988400V56O5EZ2OFVO54   \n13       NH Investment & Securities Co., Ltd.  549300LQ6NXDW1B8NT42   \n14   Hyundai Marine & Fire Insurance Co.,Ltd.  988400SYR92543UITC37   \n15    KOREA INVESTMENT & SECURITIES CO., LTD.  549300R8VJDW3X6CD250   \n16                 KOREAN REINSURANCE COMPANY  988400GFST66YNV5UF89   \n17          TONGYANG Life Insurance Co., Ltd.  9884007L6E9UAWKGCX42   \n18       Mirae Asset Life Insurance Co., Ltd.  988400RRQNSRXEO93510   \n19                      KOREA MONEY BROKERAGE  988400L2N9V47ZGDVE67   \n20                 KDB Life Insurance Co.,Ltd  988400K1TBF4L6T06Y80   \n21          Hanwha Asset Management Co., Ltd.  9884006CMDI1H9SN2072   \n22                      SK SECURITIES CO.,LTD  988400DJJ9SUL3GA8E54   \n23   EUGENE INVESTMENT & SECURITIES CO., LTD.  98840001WHNDKDPRG163   \n24                      Hyundai Card Co., Ltd  988400S1WSELQL3GVR75   \n25                   Shinhan Investment Corp.  549300V9UF8T93ZZH315   \n26                    IBK SECURITIES Co.,Ltd.  988400YGTKWY5K5CP805   \n27    Kyobo AXA Investment Managers Co., Ltd.  988400SR8XGNC82K2Y53   \n28           Kiwoom Asset Management Co., Ltd  988400KT463JESBH1R48   \n29                              KEB HANA BANK  6RPK2YDJN6L35AS0M510   \n30  SAMSUNG FIRE & MARINE INSURANCE CO., LTD.  988400JMBDK47EW0Z936   \n31               MIRAE ASSET DAEWOO CO., LTD.  98840072S6T63E2V1291   \n32          Samsung Asset Management Co.,Ltd.  988400QR5Y4VT749PV71   \n33          Hana Financial Investment Co.,Ltd  549300EYQ6V322IGFP59   \n34           Heungkuk Life Insurance Co.,Ltd.  988400EEEB3WBUD4BW44   \n35               Korea Student Aid Foundation  988400FZ3MOW7IBCKQ86   \n\n                                             synonyms  \n0   NH농협은행,NONGHYUP BANK,988400GSDJCW3LKJBD20,농협은행...  \n1   KDB산업은행,KOREA DEVELOPMENT BANK,549300ML2LNRZUC...  \n2   메리츠화재해상보험,Meritz Fire & Marine Insurance Co.,L...  \n3   신한은행,SHINHAN BANK,5493003P813VL21KG928,신한은행,㈜신...  \n4   IBK연금보험,IBK INSURANCE Co.,Ltd.,9884007YD36KPD1...  \n5   한국수출입은행,The Export-Import Bank of Korea,549300...  \n6   우리은행,Woori Bank,549300VUVMRL6RE7R376,(주) 우리은행,...  \n7   KB국민은행,Kookmin Bank CO.,LTD.,549300XXMOJSIW8P4...  \n8   하나은행,KEB HANA BANK,6RPK2YDJN6L35AS0M510,주식회사 하...  \n9   현대캐피탈,Hyundai Capital Services, Inc.,549300MAL...  \n10  한화생명보험,Hanwha Life Insurance Co., Ltd.,988400Z...  \n11  KB손해보험,KB Insurance Co., Ltd.,988400A2WKKLCWUE...  \n12  현대차증권,HYUNDAI MOTOR SECURITIES CO,, LTD.,98840...  \n13  NH투자증권,NH Investment & Securities Co., Ltd.,54...  \n14  현대해상화재보험,Hyundai Marine & Fire Insurance Co.,L...  \n15  한국투자증권,KOREA INVESTMENT & SECURITIES CO., LTD....  \n16  코리안리재보험,KOREAN REINSURANCE COMPANY,988400GFST6...  \n17  동양생명보험,TONGYANG Life Insurance Co., Ltd.,98840...  \n18  미래에셋생명보험,Mirae Asset Life Insurance Co., Ltd.,...  \n19  한국자금중개,KOREA MONEY BROKERAGE,988400L2N9V47ZGDV...  \n20  KDB생명보험,KDB Life Insurance Co.,Ltd,988400K1TBF...  \n21  한화자산운용,Hanwha Asset Management Co., Ltd.,98840...  \n22  SK증권,SK SECURITIES CO.,LTD,988400DJJ9SUL3GA8E5...  \n23  유진투자증권,EUGENE INVESTMENT & SECURITIES CO., LTD...  \n24  현대카드,Hyundai Card Co., Ltd,988400S1WSELQL3GVR7...  \n25  신한금융투자,Shinhan Investment Corp.,549300V9UF8T93...  \n26  IBK투자증권,IBK SECURITIES Co.,Ltd.,988400YGTKWY5K...  \n27  교보악사자산운용,Kyobo AXA Investment Managers Co., Lt...  \n28  키움투자자산운용,Kiwoom Asset Management Co., Ltd,9884...  \n29  하나은행,KEB HANA BANK,6RPK2YDJN6L35AS0M510,주식회사 하...  \n30  삼성화재해상보험,SAMSUNG FIRE & MARINE INSURANCE CO., ...  \n31  미래에셋대우,MIRAE ASSET DAEWOO CO., LTD.,98840072S6...  \n32  삼성자산운용,Samsung Asset Management Co.,Ltd.,98840...  \n33  하나금융투자,Hana Financial Investment Co.,Ltd,54930...  \n34  흥국생명보험,Heungkuk Life Insurance Co.,Ltd.,988400...  \n35  한국장학재단,Korea Student Aid Foundation,988400FZ3M...  \n\n\ndf4                      counterparty_name kr_counterparty_name  \\\nLEI                                                           \n988400GSDJCW3LKJBD20            NH농협은행            농협은행 주식회사   \n549300ML2LNRZUCS7149           KDB산업은행               한국산업은행   \n9884007PON6UA8YN6V50         메리츠화재해상보험         메리츠화재해상보험(주)   \n5493003P813VL21KG928              신한은행                 신한은행   \n9884007YD36KPD1S7H59           IBK연금보험         아이비케이연금보험(주)   \n549300APVP4R32PI3Y06           한국수출입은행              한국수출입은행   \n549300VUVMRL6RE7R376              우리은행             (주) 우리은행   \n549300XXMOJSIW8P4769            KB국민은행                 국민은행   \n6RPK2YDJN6L35AS0M510              하나은행            주식회사 하나은행   \n549300MALMDAGL2ZJJ27             현대캐피탈            현대캐피탈주식회사   \n988400ZKCI3R9DQHR320            한화생명보험           한화생명보험 (주)   \n988400A2WKKLCWUEW716            KB손해보험         주식회사 케이비손해보험   \n988400V56O5EZ2OFVO54             현대차증권             현대차증권(주)   \n549300LQ6NXDW1B8NT42            NH투자증권          엔에이치투자증권(주)   \n988400SYR92543UITC37          현대해상화재보험         현대해상화재보험 (주)   \n549300R8VJDW3X6CD250            한국투자증권          한국투자증권 주식회사   \n988400GFST66YNV5UF89           코리안리재보험         코리안리재보험 주식회사   \n9884007L6E9UAWKGCX42            동양생명보험            동양생명보험(주)   \n988400RRQNSRXEO93510          미래에셋생명보험         미래에셋생명보험주식회사   \n988400L2N9V47ZGDVE67            한국자금중개           한국자금중개주식회사   \n988400K1TBF4L6T06Y80           KDB생명보험          케이디비생명보험(주)   \n9884006CMDI1H9SN2072            한화자산운용          한화자산운용 주식회사   \n988400DJJ9SUL3GA8E54              SK증권              SK증권(주)   \n98840001WHNDKDPRG163            유진투자증권               유진투자증권   \n988400S1WSELQL3GVR75              현대카드             현대카드주식회사   \n549300V9UF8T93ZZH315            신한금융투자           신한금융투자 (주)   \n988400YGTKWY5K5CP805           IBK투자증권       아이비케이투자증권 주식회사   \n988400SR8XGNC82K2Y53          교보악사자산운용          교보악사자산운용(주)   \n988400KT463JESBH1R48          키움투자자산운용          키움투자자산운용(주)   \n6RPK2YDJN6L35AS0M510              하나은행            주식회사 하나은행   \n988400JMBDK47EW0Z936          삼성화재해상보험        삼성화재해상보험 주식회사   \n98840072S6T63E2V1291            미래에셋대우          미래에셋대우 주식회사   \n988400QR5Y4VT749PV71            삼성자산운용           삼성자산운용 (주)   \n549300EYQ6V322IGFP59            하나금융투자            하나금융투자(주)   \n988400EEEB3WBUD4BW44            흥국생명보험           흥국생명보험 (주)   \n988400FZ3MOW7IBCKQ86            한국장학재단            (재)한국장학재단   \n\n                                           en_counterparty_name  \\\nLEI                                                               \n988400GSDJCW3LKJBD20                              NONGHYUP BANK   \n549300ML2LNRZUCS7149                     KOREA DEVELOPMENT BANK   \n9884007PON6UA8YN6V50     Meritz Fire & Marine Insurance Co.,Ltd   \n5493003P813VL21KG928                               SHINHAN BANK   \n9884007YD36KPD1S7H59                     IBK INSURANCE Co.,Ltd.   \n549300APVP4R32PI3Y06            The Export-Import Bank of Korea   \n549300VUVMRL6RE7R376                                 Woori Bank   \n549300XXMOJSIW8P4769                      Kookmin Bank CO.,LTD.   \n6RPK2YDJN6L35AS0M510                              KEB HANA BANK   \n549300MALMDAGL2ZJJ27             Hyundai Capital Services, Inc.   \n988400ZKCI3R9DQHR320            Hanwha Life Insurance Co., Ltd.   \n988400A2WKKLCWUEW716                     KB Insurance Co., Ltd.   \n988400V56O5EZ2OFVO54         HYUNDAI MOTOR SECURITIES CO,, LTD.   \n549300LQ6NXDW1B8NT42       NH Investment & Securities Co., Ltd.   \n988400SYR92543UITC37   Hyundai Marine & Fire Insurance Co.,Ltd.   \n549300R8VJDW3X6CD250    KOREA INVESTMENT & SECURITIES CO., LTD.   \n988400GFST66YNV5UF89                 KOREAN REINSURANCE COMPANY   \n9884007L6E9UAWKGCX42          TONGYANG Life Insurance Co., Ltd.   \n988400RRQNSRXEO93510       Mirae Asset Life Insurance Co., Ltd.   \n988400L2N9V47ZGDVE67                      KOREA MONEY BROKERAGE   \n988400K1TBF4L6T06Y80                 KDB Life Insurance Co.,Ltd   \n9884006CMDI1H9SN2072          Hanwha Asset Management Co., Ltd.   \n988400DJJ9SUL3GA8E54                      SK SECURITIES CO.,LTD   \n98840001WHNDKDPRG163   EUGENE INVESTMENT & SECURITIES CO., LTD.   \n988400S1WSELQL3GVR75                      Hyundai Card Co., Ltd   \n549300V9UF8T93ZZH315                   Shinhan Investment Corp.   \n988400YGTKWY5K5CP805                    IBK SECURITIES Co.,Ltd.   \n988400SR8XGNC82K2Y53    Kyobo AXA Investment Managers Co., Ltd.   \n988400KT463JESBH1R48           Kiwoom Asset Management Co., Ltd   \n6RPK2YDJN6L35AS0M510                              KEB HANA BANK   \n988400JMBDK47EW0Z936  SAMSUNG FIRE & MARINE INSURANCE CO., LTD.   \n98840072S6T63E2V1291               MIRAE ASSET DAEWOO CO., LTD.   \n988400QR5Y4VT749PV71          Samsung Asset Management Co.,Ltd.   \n549300EYQ6V322IGFP59          Hana Financial Investment Co.,Ltd   \n988400EEEB3WBUD4BW44           Heungkuk Life Insurance Co.,Ltd.   \n988400FZ3MOW7IBCKQ86               Korea Student Aid Foundation   \n\n                                                               synonyms  \nLEI                                                                      \n988400GSDJCW3LKJBD20  NH농협은행,NONGHYUP BANK,988400GSDJCW3LKJBD20,농협은행...  \n549300ML2LNRZUCS7149  KDB산업은행,KOREA DEVELOPMENT BANK,549300ML2LNRZUC...  \n9884007PON6UA8YN6V50  메리츠화재해상보험,Meritz Fire & Marine Insurance Co.,L...  \n5493003P813VL21KG928  신한은행,SHINHAN BANK,5493003P813VL21KG928,신한은행,㈜신...  \n9884007YD36KPD1S7H59  IBK연금보험,IBK INSURANCE Co.,Ltd.,9884007YD36KPD1...  \n549300APVP4R32PI3Y06  한국수출입은행,The Export-Import Bank of Korea,549300...  \n549300VUVMRL6RE7R376  우리은행,Woori Bank,549300VUVMRL6RE7R376,(주) 우리은행,...  \n549300XXMOJSIW8P4769  KB국민은행,Kookmin Bank CO.,LTD.,549300XXMOJSIW8P4...  \n6RPK2YDJN6L35AS0M510  하나은행,KEB HANA BANK,6RPK2YDJN6L35AS0M510,주식회사 하...  \n549300MALMDAGL2ZJJ27  현대캐피탈,Hyundai Capital Services, Inc.,549300MAL...  \n988400ZKCI3R9DQHR320  한화생명보험,Hanwha Life Insurance Co., Ltd.,988400Z...  \n988400A2WKKLCWUEW716  KB손해보험,KB Insurance Co., Ltd.,988400A2WKKLCWUE...  \n988400V56O5EZ2OFVO54  현대차증권,HYUNDAI MOTOR SECURITIES CO,, LTD.,98840...  \n549300LQ6NXDW1B8NT42  NH투자증권,NH Investment & Securities Co., Ltd.,54...  \n988400SYR92543UITC37  현대해상화재보험,Hyundai Marine & Fire Insurance Co.,L...  \n549300R8VJDW3X6CD250  한국투자증권,KOREA INVESTMENT & SECURITIES CO., LTD....  \n988400GFST66YNV5UF89  코리안리재보험,KOREAN REINSURANCE COMPANY,988400GFST6...  \n9884007L6E9UAWKGCX42  동양생명보험,TONGYANG Life Insurance Co., Ltd.,98840...  \n988400RRQNSRXEO93510  미래에셋생명보험,Mirae Asset Life Insurance Co., Ltd.,...  \n988400L2N9V47ZGDVE67  한국자금중개,KOREA MONEY BROKERAGE,988400L2N9V47ZGDV...  \n988400K1TBF4L6T06Y80  KDB생명보험,KDB Life Insurance Co.,Ltd,988400K1TBF...  \n9884006CMDI1H9SN2072  한화자산운용,Hanwha Asset Management Co., Ltd.,98840...  \n988400DJJ9SUL3GA8E54  SK증권,SK SECURITIES CO.,LTD,988400DJJ9SUL3GA8E5...  \n98840001WHNDKDPRG163  유진투자증권,EUGENE INVESTMENT & SECURITIES CO., LTD...  \n988400S1WSELQL3GVR75  현대카드,Hyundai Card Co., Ltd,988400S1WSELQL3GVR7...  \n549300V9UF8T93ZZH315  신한금융투자,Shinhan Investment Corp.,549300V9UF8T93...  \n988400YGTKWY5K5CP805  IBK투자증권,IBK SECURITIES Co.,Ltd.,988400YGTKWY5K...  \n988400SR8XGNC82K2Y53  교보악사자산운용,Kyobo AXA Investment Managers Co., Lt...  \n988400KT463JESBH1R48  키움투자자산운용,Kiwoom Asset Management Co., Ltd,9884...  \n6RPK2YDJN6L35AS0M510  하나은행,KEB HANA BANK,6RPK2YDJN6L35AS0M510,주식회사 하...  \n988400JMBDK47EW0Z936  삼성화재해상보험,SAMSUNG FIRE & MARINE INSURANCE CO., ...  \n98840072S6T63E2V1291  미래에셋대우,MIRAE ASSET DAEWOO CO., LTD.,98840072S6...  \n988400QR5Y4VT749PV71  삼성자산운용,Samsung Asset Management Co.,Ltd.,98840...  \n549300EYQ6V322IGFP59  하나금융투자,Hana Financial Investment Co.,Ltd,54930...  \n988400EEEB3WBUD4BW44  흥국생명보험,Heungkuk Life Insurance Co.,Ltd.,988400...  \n988400FZ3MOW7IBCKQ86  한국장학재단,Korea Student Aid Foundation,988400FZ3M...  \n"
     ]
    }
   ],
   "source": [
    "# -*- coding: utf-8 -*-\n",
    "\n",
    "# 라이브러리 불러오기\n",
    "import pandas as pd\n",
    "\n",
    "# 파일경로를 찾고, 변수 file_path에 저장\n",
    "file_path = './counterparty_dict.csv'\n",
    "\n",
    "# read_csv() 함수로 데이터프레임 변환. 변수 df1에 저장\n",
    "df1 = pd.read_csv(file_path)\n",
    "#print(df1)\n",
    "#print('\\n')\n",
    "\n",
    "# read_csv() 함수로 데이터프레임 변환. 변수 df2에 저장. header=None 옵션\n",
    "df2 = pd.read_csv(file_path, header=None)\n",
    "#print(\"df2\",df2)\n",
    "#print('\\n')\n",
    "\n",
    "# read_csv() 함수로 데이터프레임 변환. 변수 df3에 저장. index_col=None 옵션\n",
    "df3 = pd.read_csv(file_path, index_col=None)\n",
    "print(\"df3\",df3)\n",
    "print('\\n')\n",
    "\n",
    "# read_csv() 함수로 데이터프레임 변환. 변수 df4에 저장. index_col='c0' 옵션\n",
    "df4 = pd.read_csv(file_path, index_col='LEI')\n",
    "print(\"df4\",df4)"
   ]
  },
  {
   "source": [
    "csv 파일에 따라서는 쉼표 대신 탭이나 공백으로 텍스트를 구분하기도 한다. 이때는 구분자 옵션에 알맞게 입력해야 한다.\n",
    "### read_csv() 함수의 옵션\n",
    "* path: 파일의 경로\n",
    "\n",
    "* sep(혹은 delimeter): 텍스트 데이터를 필드별로 구분하는 문자\n",
    "\n",
    "* header: 열 이름으로 사용할 행의 번호(기본값은 0). 헤더가 없고 첫 행부터 데이터가 있는 경우 None으로 설정 가능\n",
    "\n",
    "* index_col: 행 인덱스로 사용할 열의 번호 혹은 이름\n",
    "\n",
    "* names: 열 이름으로 사용할 문자열의 리스트\n",
    "\n",
    "* skiprows: 처음 몇 줄을 skip할 것인지 설정(숫자 입력), 리스트로 설정 가능\n",
    "\n",
    "* parse_dates: 날짜 텍스트를 datetime64로 변환할 것인지 설정(기본값 False)\n",
    "\n",
    "* skip_footer: 마지막 몇 줄을 스킵할 것인지 설정(숫자 입력)\n",
    "\n",
    "* encoding: 텍스트 인코딩 종류를 지정"
   ],
   "cell_type": "markdown",
   "metadata": {}
  },
  {
   "source": [
    "### 1-2. Excel 파일 : read_excel()\n",
    "### 1-3. Json 파일 : read_json()"
   ],
   "cell_type": "markdown",
   "metadata": {}
  },
  {
   "source": [
    "## 2. 웹에서 가져오기\n",
    "### 2-1. HTML 웹 페이지에서 표 속성 가져오기 : read_html()\n",
    "### 2-2. 웹 스크래핑\n"
   ],
   "cell_type": "markdown",
   "metadata": {}
  },
  {
   "cell_type": "code",
   "execution_count": 9,
   "metadata": {},
   "outputs": [
    {
     "output_type": "stream",
     "name": "stdout",
     "text": [
      "\npark 800905-*******\nkim  700905-*******\n\n"
     ]
    }
   ],
   "source": [
    "#주민번호의 맨 뒷자리를 모두 *표 처리 하고 싶을 때? 정규표현식을 사용하면 식이 짧아진다.\n",
    "import re \n",
    "\n",
    "data = \"\"\"\n",
    "park 800905-1049118\n",
    "kim  700905-1059119\n",
    "\"\"\"\n",
    "\n",
    "pat = re.compile(\"(\\d{6})[-]\\d{7}\")\n",
    "print(pat.sub(\"\\g<1>-*******\", data))"
   ]
  },
  {
   "source": [
    "### 메타 문자 . ^ $ * + ? { } [ ] \\ | ( )\n",
    "\n",
    "정규 표현식을 위한 메타문자\n",
    "\n",
    "* ^ :  문자열의 맨 처음과 일치함을 의미\n",
    "\n",
    "* $ :  문자열의 끝과 매치함을 의미\n",
    "* \\b : 단어 구분자(Word boundary)\n",
    "\n",
    "* () : 그루핑\n",
    "\n",
    "기타 : https://wikidocs.net/4309 참고"
   ],
   "cell_type": "markdown",
   "metadata": {}
  },
  {
   "cell_type": "code",
   "execution_count": 8,
   "metadata": {
    "tags": []
   },
   "outputs": [
    {
     "output_type": "stream",
     "name": "stdout",
     "text": [
      "\n\n                                  ITOT                         IWV  \\\n0                            NYSE Arca                   NYSE Arca   \n1  iShares Core S&P Total US Stock Mkt  iShares Russell 3000 Index   \n\n                         SCHB                                            FNDB  \\\n0                   NYSE Arca                                       NYSE Arca   \n1  Schwab US Broad Market ETF  Schwab Fundamental U.S. Broad Market Index ETF   \n\n                           VT                          VTI  \\\n0                   NYSE Arca                    NYSE Arca   \n1  Vanguard Total World Stock  Vanguard Total Stock Market   \n\n                                 VXUS                   VTHR  \\\n0                           NYSE Arca              NYSE Arca   \n1  Vanguard Total International Stock  Vanguard Russell 3000   \n\n                        DIA                              RSP  ...  \\\n0                 NYSE Arca                        NYSE Arca  ...   \n1  DIAMONDS Trust, Series 1  Guggenheim S&P 500 Equal Weight  ...   \n\n                                    CEW  \\\n0                             NYSE Arca   \n1  WisdomTree Dreyfus Emerging Currency   \n\n                                       CRDT                              CYB  \\\n0                                 NYSE Arca                        NYSE Arca   \n1  WisdomTree Strategic Corporate Bond Fund  WisdomTree Dreyfus Chinese Yuan   \n\n                                            ELD  \\\n0                                     NYSE Arca   \n1  WisdomTree Emerging Markets Local Debts Fund   \n\n                                              EMCB                         EU  \\\n0                                        NYSE Arca                  NYSE Arca   \n1  WisdomTree Emerging Markets Corporate Bond Fund  WisdomTree Euro Debt Fund   \n\n                               ICB                            RRF  \\\n0                        NYSE Arca                      NYSE Arca   \n1  WisdomTree Dreyfus Indian Rupee  WisdomTree Global Real Return   \n\n                                            USDU  \\\n0                                      NYSE Arca   \n1  WisdomTree Bloomberg U.S. Dollar Bullish Fund   \n\n                                       WDTI  \n0                                 NYSE Arca  \n1  WisdomTree Managed Futures Strategy Fund  \n\n[2 rows x 382 columns]\n"
     ]
    }
   ],
   "source": [
    "from bs4 import BeautifulSoup\n",
    "import requests\n",
    "import re # 정규 표현식을 쓸 때 사용하는 파이썬 내장 모듈: match(), fullmatch(), findall(), search() 등.\n",
    "import pandas as pd\n",
    "\n",
    "# 위키피디아 미국 ETF 웹 페이지에서 필요한 정보를 스크래핑하여 딕셔너리 형태로 변수 etfs에 저장\n",
    "url = \"https://en.wikipedia.org/wiki/List_of_American_exchange-traded_funds\"\n",
    "resp = requests.get(url)\n",
    "soup = BeautifulSoup(resp.text, 'lxml')   \n",
    "rows = soup.select('div > ul > li')\n",
    "    \n",
    "etfs = {}\n",
    "for row in rows:\n",
    "    \n",
    "    try:\n",
    "        etf_name = re.findall('^(.*) \\(NYSE', row.text) # findall() : 정규식과 매치되는 모든 문자열(substring)을 리스트로 돌려준다.\n",
    "        etf_market = re.findall('\\((.*)\\|', row.text)\n",
    "        etf_ticker = re.findall('NYSE Arca\\|(.*)\\)', row.text)\n",
    "        \n",
    "        if (len(etf_ticker) > 0) & (len(etf_market) > 0) & (len(etf_name) > 0):\n",
    "            etfs[etf_ticker[0]] = [etf_market[0], etf_name[0]]\n",
    "\n",
    "    except AttributeError as err:\n",
    "        pass    \n",
    "\n",
    "# etfs 딕셔너리 출력\n",
    "#print(etfs)\n",
    "print('\\n')\n",
    "\n",
    "# etfs 딕셔너리를 데이터프레임으로 변환\n",
    "df = pd.DataFrame(etfs)\n",
    "print(df)"
   ]
  },
  {
   "source": [
    "## 3. API를 활용하여 데이터 수집하기\n",
    "## 4. 데이터 저장하기\n",
    "### 4-1. CSV 파일로 저장 : to_csv()\n",
    "### 4-2. JSON 파일로 저장 : to_json()\n",
    "### 4-3. Excel 파일로 저장 : to_excel() \n",
    "to_excel() 함수 내 sheet_name=\"\" 으로 시트 이름 설정 가능\n",
    "### 4-4. 여러 개의 데이터프레임을 하나의 excel 파일로 저장 : ExcelWriter()\n",
    "to_excel() 함수 내 sheet_name=\"\" 으로 시트 이름 설정 가능\n"
   ],
   "cell_type": "markdown",
   "metadata": {}
  },
  {
   "source": [],
   "cell_type": "markdown",
   "metadata": {}
  }
 ]
}