{
 "metadata": {
  "language_info": {
   "codemirror_mode": {
    "name": "ipython",
    "version": 3
   },
   "file_extension": ".py",
   "mimetype": "text/x-python",
   "name": "python",
   "nbconvert_exporter": "python",
   "pygments_lexer": "ipython3",
   "version": "3.8.3-final"
  },
  "orig_nbformat": 2,
  "kernelspec": {
   "name": "python3",
   "display_name": "Python 3",
   "language": "python"
  }
 },
 "nbformat": 4,
 "nbformat_minor": 2,
 "cells": [
  {
   "source": [
    "# PART5. 데이터 사전 처리\n",
    "## 1. 누락 데이터 처리\n",
    "* 누락 데이터 확인"
   ],
   "cell_type": "markdown",
   "metadata": {}
  },
  {
   "cell_type": "code",
   "execution_count": 2,
   "metadata": {},
   "outputs": [
    {
     "output_type": "stream",
     "name": "stdout",
     "text": [
      "   survived  pclass     sex   age  sibsp  parch     fare embarked  class  \\\n0         0       3    male  22.0      1      0   7.2500        S  Third   \n1         1       1  female  38.0      1      0  71.2833        C  First   \n2         1       3  female  26.0      0      0   7.9250        S  Third   \n3         1       1  female  35.0      1      0  53.1000        S  First   \n4         0       3    male  35.0      0      0   8.0500        S  Third   \n\n     who  adult_male deck  embark_town alive  alone  \n0    man        True  NaN  Southampton    no  False  \n1  woman       False    C    Cherbourg   yes  False  \n2  woman       False  NaN  Southampton   yes   True  \n3  woman       False    C  Southampton   yes  False  \n4    man        True  NaN  Southampton    no   True  \n\n\n<class 'pandas.core.frame.DataFrame'>\nRangeIndex: 891 entries, 0 to 890\nData columns (total 15 columns):\n #   Column       Non-Null Count  Dtype   \n---  ------       --------------  -----   \n 0   survived     891 non-null    int64   \n 1   pclass       891 non-null    int64   \n 2   sex          891 non-null    object  \n 3   age          714 non-null    float64 \n 4   sibsp        891 non-null    int64   \n 5   parch        891 non-null    int64   \n 6   fare         891 non-null    float64 \n 7   embarked     889 non-null    object  \n 8   class        891 non-null    category\n 9   who          891 non-null    object  \n 10  adult_male   891 non-null    bool    \n 11  deck         203 non-null    category\n 12  embark_town  889 non-null    object  \n 13  alive        891 non-null    object  \n 14  alone        891 non-null    bool    \ndtypes: bool(2), category(2), float64(2), int64(4), object(5)\nmemory usage: 80.6+ KB\nNone\n"
     ]
    }
   ],
   "source": [
    "import seaborn as sns\n",
    "df = sns.load_dataset('titanic')\n",
    "print(df.head())\n",
    "print(\"\\n\")\n",
    "print(df.info())\n",
    "\n"
   ]
  },
  {
   "cell_type": "code",
   "execution_count": 3,
   "metadata": {},
   "outputs": [
    {
     "output_type": "stream",
     "name": "stdout",
     "text": [
      "NaN    688\nC       59\nB       47\nD       33\nE       32\nA       15\nF       13\nG        4\nName: deck, dtype: int64\n\n\n   survived  pclass    sex    age  sibsp  parch   fare  embarked  class  \\\n0     False   False  False  False  False  False  False     False  False   \n1     False   False  False  False  False  False  False     False  False   \n2     False   False  False  False  False  False  False     False  False   \n3     False   False  False  False  False  False  False     False  False   \n4     False   False  False  False  False  False  False     False  False   \n\n     who  adult_male   deck  embark_town  alive  alone  \n0  False       False   True        False  False  False  \n1  False       False  False        False  False  False  \n2  False       False   True        False  False  False  \n3  False       False  False        False  False  False  \n4  False       False   True        False  False  False  \n"
     ]
    }
   ],
   "source": [
    "# 누락 데이터 확인\n",
    "# deck열의 NaN개수 구하기\n",
    "nan_deck = df['deck'].value_counts(dropna = False)\n",
    "print(nan_deck)\n",
    "print('\\n')\n",
    "# isnull() 메소드로 누락 데이터 확인\n",
    "print(df.head().isnull())"
   ]
  },
  {
   "source": [
    "## 중복 데이터 처리\n",
    "### * 중복 데이터 확인 : duplicated()\n"
   ],
   "cell_type": "markdown",
   "metadata": {}
  },
  {
   "cell_type": "code",
   "execution_count": 4,
   "metadata": {},
   "outputs": [
    {
     "output_type": "stream",
     "name": "stdout",
     "text": [
      "  c1  c2  c3\n0  a   1   1\n1  a   1   1\n2  b   1   2\n3  a   2   2\n4  b   2   2\n\n\n0    False\n1     True\n2    False\n3    False\n4    False\ndtype: bool\n\n\n0    False\n1     True\n2     True\n3    False\n4     True\nName: c2, dtype: bool\n"
     ]
    }
   ],
   "source": [
    "import pandas as pd\n",
    "\n",
    "# 중복 데이터를 갖는 데이터프레임 만들기\n",
    "df = pd.DataFrame({'c1':['a', 'a', 'b', 'a', 'b'],\n",
    "                  'c2':[1, 1, 1, 2, 2],\n",
    "                  'c3':[1, 1, 2, 2, 2]})\n",
    "print(df)\n",
    "print('\\n')\n",
    "\n",
    "# 데이터프레임 전체 행 데이터 중에서 중복값 찾기\n",
    "df_dup = df.duplicated() # boolean 반환\n",
    "print(df_dup)\n",
    "print('\\n')\n",
    "\n",
    "# 데이터프레임의 특정 열 데이터에서 중복값 찾기\n",
    "col_dup = df['c2'].duplicated()\n",
    "print(col_dup)\n",
    "\n"
   ]
  },
  {
   "source": [
    "### * 중복 데이터 제거"
   ],
   "cell_type": "markdown",
   "metadata": {}
  },
  {
   "cell_type": "code",
   "execution_count": 5,
   "metadata": {},
   "outputs": [
    {
     "output_type": "stream",
     "name": "stdout",
     "text": [
      "  c1  c2  c3\n",
      "0  a   1   1\n",
      "1  a   1   1\n",
      "2  b   1   2\n",
      "3  a   2   2\n",
      "4  b   2   2\n",
      "\n",
      "\n",
      "  c1  c2  c3\n",
      "0  a   1   1\n",
      "2  b   1   2\n",
      "3  a   2   2\n",
      "4  b   2   2\n",
      "\n",
      "\n",
      "  c1  c2  c3\n",
      "0  a   1   1\n",
      "2  b   1   2\n",
      "3  a   2   2\n"
     ]
    }
   ],
   "source": [
    "df = pd.DataFrame({'c1':['a', 'a', 'b', 'a', 'b'],\n",
    "                  'c2':[1, 1, 1, 2, 2],\n",
    "                  'c3':[1, 1, 2, 2, 2]})\n",
    "print(df)\n",
    "print('\\n')\n",
    "\n",
    "# 데이터프레임에서 중복 행을 제거\n",
    "df2 = df.drop_duplicates()\n",
    "print(df2)\n",
    "print('\\n')\n",
    "\n",
    "# c2, c3열을 기준으로 중복 행을 제거\n",
    "df3 = df.drop_duplicates(subset=['c2', 'c3'])\n",
    "print(df3)"
   ]
  },
  {
   "source": [
    "## 3. 데이터 표준화\n",
    "### 3-1. 단위 환산\n"
   ],
   "cell_type": "markdown",
   "metadata": {}
  },
  {
   "cell_type": "code",
   "execution_count": 6,
   "metadata": {},
   "outputs": [
    {
     "output_type": "stream",
     "name": "stdout",
     "text": [
      "    mpg  cylinders  displacement horsepower  weight  acceleration  model year  \\\n",
      "0  18.0          8         307.0      130.0  3504.0          12.0          70   \n",
      "1  15.0          8         350.0      165.0  3693.0          11.5          70   \n",
      "2  18.0          8         318.0      150.0  3436.0          11.0          70   \n",
      "\n",
      "   origin                       name  \n",
      "0       1  chevrolet chevelle malibu  \n",
      "1       1          buick skylark 320  \n",
      "2       1         plymouth satellite  \n",
      "\n",
      "\n",
      "    mpg  cylinders  displacement horsepower  weight  acceleration  model year  \\\n",
      "0  18.0          8         307.0      130.0  3504.0          12.0          70   \n",
      "1  15.0          8         350.0      165.0  3693.0          11.5          70   \n",
      "2  18.0          8         318.0      150.0  3436.0          11.0          70   \n",
      "\n",
      "   origin                       name       kpl  \n",
      "0       1  chevrolet chevelle malibu  7.652571  \n",
      "1       1          buick skylark 320  6.377143  \n",
      "2       1         plymouth satellite  7.652571  \n",
      "\n",
      "\n",
      "    mpg  cylinders  displacement horsepower  weight  acceleration  model year  \\\n",
      "0  18.0          8         307.0      130.0  3504.0          12.0          70   \n",
      "1  15.0          8         350.0      165.0  3693.0          11.5          70   \n",
      "2  18.0          8         318.0      150.0  3436.0          11.0          70   \n",
      "\n",
      "   origin                       name   kpl  \n",
      "0       1  chevrolet chevelle malibu  7.65  \n",
      "1       1          buick skylark 320  6.38  \n",
      "2       1         plymouth satellite  7.65  \n"
     ]
    }
   ],
   "source": [
    "df = pd.read_csv('./source/part5/auto-mpg.csv', header=None)\n",
    "\n",
    "# 열 이름을 지정\n",
    "df.columns = ['mpg','cylinders','displacement','horsepower','weight',\n",
    "              'acceleration','model year','origin','name'] \n",
    "print(df.head(3))    \n",
    "print('\\n')\n",
    "\n",
    "# mpg(mile per gallon)를 kpl(kilometer per liter)로 변환 (mpg_to_kpl = 0.425)\n",
    "mpg_to_kpl = 1.60934 / 3.78541\n",
    "\n",
    "# mpg 열에 0.425를 곱한 결과를 새로운 열(kpl)에 추가\n",
    "df['kpl'] = df['mpg'] * mpg_to_kpl\n",
    "print(df.head(3))    \n",
    "print('\\n')\n",
    "\n",
    "# kpl 열을 소수점 아래 둘째 자리에서 반올림 \n",
    "df['kpl'] = df['kpl'].round(2)\n",
    "print(df.head(3))     "
   ]
  },
  {
   "source": [
    "### 3-2.자료형 변환"
   ],
   "cell_type": "markdown",
   "metadata": {}
  },
  {
   "cell_type": "code",
   "execution_count": 7,
   "metadata": {},
   "outputs": [
    {
     "output_type": "stream",
     "name": "stdout",
     "text": [
      "mpg             float64\ncylinders         int64\ndisplacement    float64\nhorsepower       object\nweight          float64\nacceleration    float64\nmodel year        int64\norigin            int64\nname             object\nkpl             float64\ndtype: object\n\n\n['130.0' '165.0' '150.0' '140.0' '198.0' '220.0' '215.0' '225.0' '190.0'\n '170.0' '160.0' '95.00' '97.00' '85.00' '88.00' '46.00' '87.00' '90.00'\n '113.0' '200.0' '210.0' '193.0' '?' '100.0' '105.0' '175.0' '153.0'\n '180.0' '110.0' '72.00' '86.00' '70.00' '76.00' '65.00' '69.00' '60.00'\n '80.00' '54.00' '208.0' '155.0' '112.0' '92.00' '145.0' '137.0' '158.0'\n '167.0' '94.00' '107.0' '230.0' '49.00' '75.00' '91.00' '122.0' '67.00'\n '83.00' '78.00' '52.00' '61.00' '93.00' '148.0' '129.0' '96.00' '71.00'\n '98.00' '115.0' '53.00' '81.00' '79.00' '120.0' '152.0' '102.0' '108.0'\n '68.00' '58.00' '149.0' '89.00' '63.00' '48.00' '66.00' '139.0' '103.0'\n '125.0' '133.0' '138.0' '135.0' '142.0' '77.00' '62.00' '132.0' '84.00'\n '64.00' '74.00' '116.0' '82.00']\n\n\n"
     ]
    }
   ],
   "source": [
    "print(df.dtypes)\n",
    "print('\\n')\n",
    "# horsepower 열의 고유값 확인\n",
    "print(df['horsepower'].unique())\n",
    "print('\\n')\n"
   ]
  },
  {
   "source": [
    "### astype('type명') 사용\n",
    "horsepower : '?' 가 있어서 object로 인식됨 -> ?을 nan으로 바꾼 후 float (astype('float))"
   ],
   "cell_type": "markdown",
   "metadata": {}
  },
  {
   "cell_type": "code",
   "execution_count": 8,
   "metadata": {},
   "outputs": [
    {
     "output_type": "stream",
     "name": "stdout",
     "text": [
      "float64\n\n\n"
     ]
    }
   ],
   "source": [
    "# 누락 데이터('?') 삭제 \n",
    "import numpy as np\n",
    "df['horsepower'].replace('?', np.nan, inplace=True)      # '?'을 np.nan으로 변경\n",
    "df.dropna(subset=['horsepower'], axis=0, inplace=True)   # 누락데이터 행을 삭제\n",
    "df['horsepower'] = df['horsepower'].astype('float')      # 문자열을 실수형으로 변환\n",
    "\n",
    "# horsepower 열의 자료형 확인\n",
    "print(df['horsepower'].dtypes)  \n",
    "print('\\n')\n"
   ]
  },
  {
   "source": [
    "### replace() 사용\n",
    "origin : 정수형 데이터(1,2,3)를 국가이름으로 바꾼다"
   ],
   "cell_type": "markdown",
   "metadata": {}
  },
  {
   "cell_type": "code",
   "execution_count": 9,
   "metadata": {},
   "outputs": [
    {
     "output_type": "stream",
     "name": "stdout",
     "text": [
      "[1 3 2]\n['USA' 'JAPAN' 'EU']\nobject\n\n\n"
     ]
    }
   ],
   "source": [
    "# origin 열의 고유값 확인\n",
    "print(df['origin'].unique())\n",
    "\n",
    "# 정수형 데이터를 문자형 데이터로 변환 \n",
    "df['origin'].replace({1:'USA', 2:'EU', 3:'JAPAN'}, inplace=True)\n",
    "\n",
    "# origin 열의 고유값과 자료형 확인\n",
    "print(df['origin'].unique())\n",
    "print(df['origin'].dtypes) \n",
    "print('\\n')"
   ]
  },
  {
   "cell_type": "code",
   "execution_count": 10,
   "metadata": {},
   "outputs": [
    {
     "output_type": "stream",
     "name": "stdout",
     "text": [
      "category\n\n\nobject\n\n\n"
     ]
    }
   ],
   "source": [
    "# origin 열의 문자열 자료형을 범주형으로 변환\n",
    "df['origin'] = df['origin'].astype('category')     \n",
    "print(df['origin'].dtypes) \n",
    "print('\\n')\n",
    "\n",
    "# 범주형을 문자열로 다시 변환\n",
    "df['origin'] = df['origin'].astype('str')     \n",
    "print(df['origin'].dtypes)\n",
    "print('\\n')"
   ]
  },
  {
   "cell_type": "code",
   "execution_count": 11,
   "metadata": {},
   "outputs": [
    {
     "output_type": "stream",
     "name": "stdout",
     "text": [
      "356    81\n146    74\n22     70\nName: model year, dtype: int64\n314    80\n348    81\n379    82\nName: model year, dtype: category\nCategories (13, int64): [70, 71, 72, 73, ..., 79, 80, 81, 82]\n"
     ]
    }
   ],
   "source": [
    "# model year 열의 정수형을 범주형으로 변환\n",
    "print(df['model year'].sample(3))\n",
    "df['model year'] = df['model year'].astype('category') \n",
    "print(df['model year'].sample(3)) "
   ]
  },
  {
   "source": [
    "## 4. 범주형(카테고리) 데이터 처리\n",
    "### 4-1. 구간 분할\n",
    "### "
   ],
   "cell_type": "markdown",
   "metadata": {}
  },
  {
   "cell_type": "code",
   "execution_count": 24,
   "metadata": {},
   "outputs": [
    {
     "output_type": "stream",
     "name": "stdout",
     "text": [
      "    horsepower hp_bin\n0        130.0   보통출력\n1        165.0   보통출력\n2        150.0   보통출력\n3        150.0   보통출력\n4        140.0   보통출력\n5        198.0    고출력\n6        220.0    고출력\n7        215.0    고출력\n8        225.0    고출력\n9        190.0    고출력\n10       170.0    고출력\n11       160.0   보통출력\n12       150.0   보통출력\n13       225.0    고출력\n14        95.0    저출력\n"
     ]
    }
   ],
   "source": [
    "df = pd.read_csv('./source/part5/auto-mpg.csv', header=None)\n",
    "\n",
    "# 열 이름을 지정\n",
    "df.columns = ['mpg','cylinders','displacement','horsepower','weight',\n",
    "              'acceleration','model year','origin','name'] \n",
    "\n",
    "# horsepower 열의 누락 데이터('?') 삭제하고 실수형으로 변환\n",
    "df['horsepower'].replace('?', np.nan, inplace=True)      # '?'을 np.nan으로 변경\n",
    "df.dropna(subset=['horsepower'], axis=0, inplace=True)   # 누락데이터 행을 삭제\n",
    "df['horsepower'] = df['horsepower'].astype('float')      # 문자열을 실수형으로 변환\n",
    "\n",
    "# np.histogram 함수로 3개의 bin으로 나누는 경계 값의 리스트 구하기\n",
    "count, bin_dividers = np.histogram(df['horsepower'], bins=3)\n",
    "#print(count) #[257 103  32]\n",
    "#print('\\n')\n",
    "#print(bin_dividers) # [ 46.         107.33333333 168.66666667 230.        ]\n",
    "\n",
    "# 3개의 bin에 이름 지정\n",
    "bin_names = ['저출력', '보통출력', '고출력']\n",
    "\n",
    "# pd.cut 함수로 각 데이터를 3개의 bin에 할당\n",
    "df['hp_bin'] = pd.cut(x=df['horsepower'],     # 데이터 배열\n",
    "                      bins=bin_dividers,      # 경계 값 리스트\n",
    "                      labels=bin_names,       # bin 이름\n",
    "                      include_lowest=True)    # 첫 경계값 포함 \n",
    "\n",
    "# horsepower 열, hp_bin 열의 첫 15행을 출력\n",
    "print(df[['horsepower', 'hp_bin']].head(15))"
   ]
  },
  {
   "source": [
    "### 4-2. 더미 변수 : get_dummies()"
   ],
   "cell_type": "markdown",
   "metadata": {}
  },
  {
   "cell_type": "code",
   "execution_count": 25,
   "metadata": {},
   "outputs": [
    {
     "output_type": "stream",
     "name": "stdout",
     "text": [
      "    저출력  보통출력  고출력\n0     0     1    0\n1     0     1    0\n2     0     1    0\n3     0     1    0\n4     0     1    0\n5     0     0    1\n6     0     0    1\n7     0     0    1\n8     0     0    1\n9     0     0    1\n10    0     0    1\n11    0     1    0\n12    0     1    0\n13    0     0    1\n14    1     0    0\n"
     ]
    }
   ],
   "source": [
    "# hp_bin 열의 범주형 데이터를 더미 변수로 변환\n",
    "horsepower_dummies = pd.get_dummies(df['hp_bin'])\n",
    "print(horsepower_dummies.head(15))\n"
   ]
  },
  {
   "source": [
    "### 원핫인코딩 처리 : sklearn 라이브러리"
   ],
   "cell_type": "markdown",
   "metadata": {}
  },
  {
   "cell_type": "code",
   "execution_count": 26,
   "metadata": {},
   "outputs": [
    {
     "output_type": "stream",
     "name": "stdout",
     "text": [
      "[1 1 1 1 1 0 0 0 0 0 0 1 1 0 2]\n<class 'numpy.ndarray'>\n[[1]\n [1]\n [1]\n [1]\n [1]\n [0]\n [0]\n [0]\n [0]\n [0]\n [0]\n [1]\n [1]\n [0]\n [2]]\n<class 'numpy.ndarray'>\n  (0, 1)\t1.0\n  (1, 1)\t1.0\n  (2, 1)\t1.0\n  (3, 1)\t1.0\n  (4, 1)\t1.0\n  (5, 0)\t1.0\n  (6, 0)\t1.0\n  (7, 0)\t1.0\n  (8, 0)\t1.0\n  (9, 0)\t1.0\n  (10, 0)\t1.0\n  (11, 1)\t1.0\n  (12, 1)\t1.0\n  (13, 0)\t1.0\n  (14, 2)\t1.0\n<class 'scipy.sparse.csr.csr_matrix'>\n"
     ]
    }
   ],
   "source": [
    "# sklern 라이브러리 불러오기\n",
    "from sklearn import preprocessing    \n",
    "\n",
    "# 전처리를 위한 encoder 객체 만들기\n",
    "label_encoder = preprocessing.LabelEncoder()       # label encoder 생성\n",
    "onehot_encoder = preprocessing.OneHotEncoder()   # one hot encoder 생성\n",
    "\n",
    "# label encoder로 문자열 범주를 숫자형 범주로 변환\n",
    "onehot_labeled = label_encoder.fit_transform(df['hp_bin'].head(15))  \n",
    "print(onehot_labeled)\n",
    "print(type(onehot_labeled))\n",
    "\n",
    "# 2차원 행렬로 형태 변경\n",
    "onehot_reshaped = onehot_labeled.reshape(len(onehot_labeled), 1) \n",
    "print(onehot_reshaped)\n",
    "print(type(onehot_reshaped))\n",
    "\n",
    "# 희소행렬로 변환\n",
    "onehot_fitted = onehot_encoder.fit_transform(onehot_reshaped)\n",
    "print(onehot_fitted)\n",
    "print(type(onehot_fitted))\n"
   ]
  },
  {
   "source": [
    "## 5. 정규화\n",
    "시계열 데이터 표현에 자주 이용되는 두가지 유형: Timestamp, Period\n",
    "\n",
    "### * 해당 열의 최대값(의 절대값)으로 나누는 방법"
   ],
   "cell_type": "markdown",
   "metadata": {}
  },
  {
   "cell_type": "code",
   "execution_count": 27,
   "metadata": {},
   "outputs": [
    {
     "output_type": "stream",
     "name": "stdout",
     "text": [
      "count    392.000000\nmean     104.469388\nstd       38.491160\nmin       46.000000\n25%       75.000000\n50%       93.500000\n75%      126.000000\nmax      230.000000\nName: horsepower, dtype: float64\n\n\n0    0.565217\n1    0.717391\n2    0.652174\n3    0.652174\n4    0.608696\nName: horsepower, dtype: float64\n\n\ncount    392.000000\nmean       0.454215\nstd        0.167353\nmin        0.200000\n25%        0.326087\n50%        0.406522\n75%        0.547826\nmax        1.000000\nName: horsepower, dtype: float64\n"
     ]
    }
   ],
   "source": [
    "# horsepower 열의 통계 요약정보로 최대값(max)을 확인\n",
    "print(df.horsepower.describe())\n",
    "print('\\n')\n",
    "\n",
    "# horsepower 열의 최대값의 절대값으로 모든 데이터를 나눠서 저장\n",
    "df.horsepower = df.horsepower / abs(df.horsepower.max()) \n",
    "\n",
    "print(df.horsepower.head())\n",
    "print('\\n')\n",
    "print(df.horsepower.describe())"
   ]
  },
  {
   "source": [
    "### * 최대값과 최소값을 뺀 값으로 나누는 방법"
   ],
   "cell_type": "markdown",
   "metadata": {}
  },
  {
   "cell_type": "code",
   "execution_count": 28,
   "metadata": {},
   "outputs": [
    {
     "output_type": "stream",
     "name": "stdout",
     "text": [
      "count    392.000000\nmean       0.454215\nstd        0.167353\nmin        0.200000\n25%        0.326087\n50%        0.406522\n75%        0.547826\nmax        1.000000\nName: horsepower, dtype: float64\n\n\n0    0.456522\n1    0.646739\n2    0.565217\n3    0.565217\n4    0.510870\nName: horsepower, dtype: float64\n\n\ncount    392.000000\nmean       0.317768\nstd        0.209191\nmin        0.000000\n25%        0.157609\n50%        0.258152\n75%        0.434783\nmax        1.000000\nName: horsepower, dtype: float64\n"
     ]
    }
   ],
   "source": [
    "# horsepower 열의 통계 요약정보로 최대값(max)과 최소값(min)을 확인\n",
    "print(df.horsepower.describe())\n",
    "print('\\n')\n",
    "\n",
    "# horsepower 열의 최대값의 절대값으로 모든 데이터를 나눠서 저장\n",
    "min_x = df.horsepower - df.horsepower.min()\n",
    "min_max = df.horsepower.max() - df.horsepower.min()\n",
    "df.horsepower = min_x / min_max\n",
    "\n",
    "print(df.horsepower.head())\n",
    "print('\\n')\n",
    "print(df.horsepower.describe())"
   ]
  },
  {
   "source": [
    "## 6. 시계열 데이터\n",
    "시계열 데이터 표현에 자주 이용되는 두가지 유형: Timestamp, Period\n",
    "\n",
    "### 6-1. 다른 자료형을 시계열 객체로 변환\n",
    "### 문자열을 Timestamp로 변환: to_datetime()\n",
    "시간 데이터(문자열 / 숫자) -> 판다스 시계열 데이터로 변환하는 Timestamp 함수\n"
   ],
   "cell_type": "markdown",
   "metadata": {}
  },
  {
   "cell_type": "code",
   "execution_count": 13,
   "metadata": {},
   "outputs": [
    {
     "output_type": "stream",
     "name": "stdout",
     "text": [
      "         Date  Close  Start   High    Low  Volume\n0  2018-07-02  10100  10850  10900  10000  137977\n1  2018-06-29  10700  10550  10900   9990  170253\n2  2018-06-28  10400  10900  10950  10150  155769\n3  2018-06-27  10900  10800  11050  10500  133548\n4  2018-06-26  10800  10900  11000  10700   63039\n\n\n<class 'pandas.core.frame.DataFrame'>\nRangeIndex: 20 entries, 0 to 19\nData columns (total 6 columns):\n #   Column  Non-Null Count  Dtype \n---  ------  --------------  ----- \n 0   Date    20 non-null     object\n 1   Close   20 non-null     int64 \n 2   Start   20 non-null     int64 \n 3   High    20 non-null     int64 \n 4   Low     20 non-null     int64 \n 5   Volume  20 non-null     int64 \ndtypes: int64(5), object(1)\nmemory usage: 1.1+ KB\nNone\n"
     ]
    }
   ],
   "source": [
    "import pandas as pd\n",
    "df = pd.read_csv('./source/part5/stock-data.csv')\n",
    "\n",
    "print(df.head())\n",
    "print('\\n')\n",
    "print(df.info()) # 'Date' == object(문자열)"
   ]
  },
  {
   "source": [
    "'Date'열을 to_datetime() 함수 인자로 전달하면 문자열(object)데이터를 datetime64 자료형으로 변환한다."
   ],
   "cell_type": "markdown",
   "metadata": {}
  },
  {
   "cell_type": "code",
   "execution_count": 14,
   "metadata": {},
   "outputs": [
    {
     "output_type": "stream",
     "name": "stdout",
     "text": [
      "         Date  Close  Start   High    Low  Volume   new_Date\n0  2018-07-02  10100  10850  10900  10000  137977 2018-07-02\n1  2018-06-29  10700  10550  10900   9990  170253 2018-06-29\n2  2018-06-28  10400  10900  10950  10150  155769 2018-06-28\n3  2018-06-27  10900  10800  11050  10500  133548 2018-06-27\n4  2018-06-26  10800  10900  11000  10700   63039 2018-06-26\n\n\n<class 'pandas.core.frame.DataFrame'>\nRangeIndex: 20 entries, 0 to 19\nData columns (total 7 columns):\n #   Column    Non-Null Count  Dtype         \n---  ------    --------------  -----         \n 0   Date      20 non-null     object        \n 1   Close     20 non-null     int64         \n 2   Start     20 non-null     int64         \n 3   High      20 non-null     int64         \n 4   Low       20 non-null     int64         \n 5   Volume    20 non-null     int64         \n 6   new_Date  20 non-null     datetime64[ns]\ndtypes: datetime64[ns](1), int64(5), object(1)\nmemory usage: 1.2+ KB\nNone\n\n\n<class 'pandas._libs.tslibs.timestamps.Timestamp'>\n"
     ]
    }
   ],
   "source": [
    "df['new_Date'] = pd.to_datetime(df['Date']) # df에 새로운 열로 추가\n",
    "\n",
    "# 데이터 내용 및 자료형 자료형 확인\n",
    "print(df.head())\n",
    "print('\\n')\n",
    "print(df.info())\n",
    "print('\\n')\n",
    "print(type(df['new_Date'][0]))"
   ]
  },
  {
   "cell_type": "code",
   "execution_count": 15,
   "metadata": {},
   "outputs": [
    {
     "output_type": "stream",
     "name": "stdout",
     "text": [
      "            Close  Start   High    Low  Volume\nnew_Date                                      \n2018-07-02  10100  10850  10900  10000  137977\n2018-06-29  10700  10550  10900   9990  170253\n2018-06-28  10400  10900  10950  10150  155769\n2018-06-27  10900  10800  11050  10500  133548\n2018-06-26  10800  10900  11000  10700   63039\n\n\n<class 'pandas.core.frame.DataFrame'>\nDatetimeIndex: 20 entries, 2018-07-02 to 2018-06-01\nData columns (total 5 columns):\n #   Column  Non-Null Count  Dtype\n---  ------  --------------  -----\n 0   Close   20 non-null     int64\n 1   Start   20 non-null     int64\n 2   High    20 non-null     int64\n 3   Low     20 non-null     int64\n 4   Volume  20 non-null     int64\ndtypes: int64(5)\nmemory usage: 960.0 bytes\nNone\n"
     ]
    }
   ],
   "source": [
    "df.set_index('new_Date', inplace=True) # 시계열 값으로 변환된 열을 새로운 행 인덱스로 지정. \n",
    "df.drop('Date', axis=1, inplace=True) # 기존 날짜 열 삭제\n",
    "\n",
    "# 데이터 내용 및 자료형 자료형 확인\n",
    "print(df.head())\n",
    "print('\\n')\n",
    "print(df.info())\n"
   ]
  },
  {
   "source": [
    "### Timestamp를 Period로 변환 : to_period()\n",
    "\n",
    "DatetimeIndex -> PeriodIndex\n",
    "\n",
    "datetime64 -> period 로 변환됨.\n",
    "\n",
    "freq 옵션: D, M, A, W, T, S, ..."
   ],
   "cell_type": "markdown",
   "metadata": {}
  },
  {
   "cell_type": "code",
   "execution_count": 16,
   "metadata": {},
   "outputs": [
    {
     "output_type": "stream",
     "name": "stdout",
     "text": [
      "DatetimeIndex(['2019-01-01', '2020-03-01', '2021-06-01'], dtype='datetime64[ns]', freq=None)\n\n\nPeriodIndex(['2019-01-01', '2020-03-01', '2021-06-01'], dtype='period[D]', freq='D')\nPeriodIndex(['2019-01', '2020-03', '2021-06'], dtype='period[M]', freq='M')\nPeriodIndex(['2019', '2020', '2021'], dtype='period[A-DEC]', freq='A-DEC')\n"
     ]
    }
   ],
   "source": [
    "dates = ['2019-01-01', '2020-03-01', '2021-06-01']\n",
    "\n",
    "# 문자열 데이터(시리즈 객체)를 판다스 Timestamp로 변환\n",
    "ts_dates = pd.to_datetime(dates)   \n",
    "print(ts_dates)\n",
    "print('\\n')\n",
    "\n",
    "# Timestamp를 Period로 변환\n",
    "pr_day = ts_dates.to_period(freq='D')\n",
    "print(pr_day)\n",
    "pr_month = ts_dates.to_period(freq='M')\n",
    "print(pr_month)\n",
    "pr_year = ts_dates.to_period(freq='A')\n",
    "print(pr_year)"
   ]
  },
  {
   "source": [
    "## 6-2. 시계열 데이터 만들기\n",
    "### Timestamp 배열 : date_range()"
   ],
   "cell_type": "markdown",
   "metadata": {}
  },
  {
   "cell_type": "code",
   "execution_count": 17,
   "metadata": {},
   "outputs": [
    {
     "output_type": "stream",
     "name": "stdout",
     "text": [
      "DatetimeIndex(['2019-01-01 00:00:00+09:00', '2019-02-01 00:00:00+09:00',\n               '2019-03-01 00:00:00+09:00', '2019-04-01 00:00:00+09:00',\n               '2019-05-01 00:00:00+09:00', '2019-06-01 00:00:00+09:00'],\n              dtype='datetime64[ns, Asia/Seoul]', freq='MS')\n\n\nDatetimeIndex(['2019-01-31 00:00:00+09:00', '2019-02-28 00:00:00+09:00',\n               '2019-03-31 00:00:00+09:00', '2019-04-30 00:00:00+09:00',\n               '2019-05-31 00:00:00+09:00', '2019-06-30 00:00:00+09:00'],\n              dtype='datetime64[ns, Asia/Seoul]', freq='M')\n\n\nDatetimeIndex(['2019-01-31 00:00:00+09:00', '2019-04-30 00:00:00+09:00',\n               '2019-07-31 00:00:00+09:00', '2019-10-31 00:00:00+09:00',\n               '2020-01-31 00:00:00+09:00', '2020-04-30 00:00:00+09:00'],\n              dtype='datetime64[ns, Asia/Seoul]', freq='3M')\n"
     ]
    }
   ],
   "source": [
    "# Timestamp의 배열 만들기 - 월 간격, 월의 시작일 기준\n",
    "ts_ms = pd.date_range(start='2019-01-01',    # 날짜 범위의 시작\n",
    "                   end=None,                 # 날짜 범위의 끝\n",
    "                   periods=6,                # 생성할 Timestamp의 개수\n",
    "                   freq='MS',                # 시간 간격 (MS: 월의 시작일)\n",
    "                   tz='Asia/Seoul')          # 시간대(timezone)\n",
    "print(ts_ms)\n",
    "print('\\n')\n",
    "\n",
    "# 월 간격, 월의 마지막 날 기준\n",
    "ts_me = pd.date_range('2019-01-01', periods=6, \n",
    "                   freq='M',              # 시간 간격 (M: 월의 마지막 날)\n",
    "                   tz='Asia/Seoul')       # 시간대(timezone)\n",
    "print(ts_me)\n",
    "print('\\n')\n",
    "\n",
    "# 분기(3개월) 간격, 월의 마지막 날 기준\n",
    "ts_3m = pd.date_range('2019-01-01', periods=6, \n",
    "                   freq='3M',             # 시간 간격 (3M: 3개월)\n",
    "                   tz='Asia/Seoul')       # 시간대(timezone)\n",
    "print(ts_3m)\n"
   ]
  },
  {
   "source": [
    "### period 배열 : period_range()"
   ],
   "cell_type": "markdown",
   "metadata": {}
  },
  {
   "cell_type": "code",
   "execution_count": 18,
   "metadata": {},
   "outputs": [
    {
     "output_type": "stream",
     "name": "stdout",
     "text": [
      "PeriodIndex(['2019-01', '2019-02', '2019-03'], dtype='period[M]', freq='M')\n\n\nPeriodIndex(['2019-01-01 00:00', '2019-01-01 01:00', '2019-01-01 02:00'], dtype='period[H]', freq='H')\n\n\nPeriodIndex(['2019-01-01 00:00', '2019-01-01 02:00', '2019-01-01 04:00'], dtype='period[2H]', freq='2H')\n"
     ]
    }
   ],
   "source": [
    "# Period 배열 만들기 - 1개월 길이\n",
    "pr_m = pd.period_range(start='2019-01-01',     # 날짜 범위의 시작\n",
    "                   end=None,                   # 날짜 범위의 끝\n",
    "                   periods=3,                  # 생성할 Period 개수\n",
    "                   freq='M')                   # 기간의 길이 (M: 월)\n",
    "print(pr_m)\n",
    "print('\\n')\n",
    "\n",
    "# Period 배열 만들기 - 1시간 길이\n",
    "pr_h = pd.period_range(start='2019-01-01',     # 날짜 범위의 시작\n",
    "                   end=None,                   # 날짜 범위의 끝\n",
    "                   periods=3,                  # 생성할 Period 개수\n",
    "                   freq='H')                   # 기간의 길이 (H: 시간)\n",
    "print(pr_h)\n",
    "print('\\n')\n",
    "\n",
    "# Period 배열 만들기 - 2시간 길이\n",
    "pr_2h = pd.period_range(start='2019-01-01',    # 날짜 범위의 시작\n",
    "                   end=None,                   # 날짜 범위의 끝\n",
    "                   periods=3,                  # 생성할 Period 개수\n",
    "                   freq='2H')                  # 기간의 길이 (H: 시간)\n",
    "print(pr_2h)"
   ]
  },
  {
   "source": [
    "## 6-3. 시계열 데이터 활용\n",
    "### 날짜 데이터 분리\n",
    "연-월-일 정보를 연,월,일 각각으로 구분하는 방법"
   ],
   "cell_type": "markdown",
   "metadata": {}
  },
  {
   "cell_type": "code",
   "execution_count": 19,
   "metadata": {},
   "outputs": [
    {
     "output_type": "stream",
     "name": "stdout",
     "text": [
      "         Date  Close  Start   High    Low  Volume   new_Date\n0  2018-07-02  10100  10850  10900  10000  137977 2018-07-02\n1  2018-06-29  10700  10550  10900   9990  170253 2018-06-29\n2  2018-06-28  10400  10900  10950  10150  155769 2018-06-28\n3  2018-06-27  10900  10800  11050  10500  133548 2018-06-27\n4  2018-06-26  10800  10900  11000  10700   63039 2018-06-26\n\n\n         Date  Close  Start   High    Low  Volume   new_Date  Year  Month  Day\n0  2018-07-02  10100  10850  10900  10000  137977 2018-07-02  2018      7    2\n1  2018-06-29  10700  10550  10900   9990  170253 2018-06-29  2018      6   29\n2  2018-06-28  10400  10900  10950  10150  155769 2018-06-28  2018      6   28\n3  2018-06-27  10900  10800  11050  10500  133548 2018-06-27  2018      6   27\n4  2018-06-26  10800  10900  11000  10700   63039 2018-06-26  2018      6   26\n\n\n         Date  Close  Start   High    Low  Volume   new_Date  Year  Month  \\\n0  2018-07-02  10100  10850  10900  10000  137977 2018-07-02  2018      7   \n1  2018-06-29  10700  10550  10900   9990  170253 2018-06-29  2018      6   \n2  2018-06-28  10400  10900  10950  10150  155769 2018-06-28  2018      6   \n3  2018-06-27  10900  10800  11050  10500  133548 2018-06-27  2018      6   \n4  2018-06-26  10800  10900  11000  10700   63039 2018-06-26  2018      6   \n\n   Day Date_yr   Date_m  \n0    2    2018  2018-07  \n1   29    2018  2018-06  \n2   28    2018  2018-06  \n3   27    2018  2018-06  \n4   26    2018  2018-06  \n\n\n               Date  Close  Start   High    Low  Volume   new_Date  Year  \\\nDate_m                                                                     \n2018-07  2018-07-02  10100  10850  10900  10000  137977 2018-07-02  2018   \n2018-06  2018-06-29  10700  10550  10900   9990  170253 2018-06-29  2018   \n2018-06  2018-06-28  10400  10900  10950  10150  155769 2018-06-28  2018   \n2018-06  2018-06-27  10900  10800  11050  10500  133548 2018-06-27  2018   \n2018-06  2018-06-26  10800  10900  11000  10700   63039 2018-06-26  2018   \n\n         Month  Day Date_yr  \nDate_m                       \n2018-07      7    2    2018  \n2018-06      6   29    2018  \n2018-06      6   28    2018  \n2018-06      6   27    2018  \n2018-06      6   26    2018  \n"
     ]
    }
   ],
   "source": [
    "# read_csv() 함수로 파일 읽어와서 df로 변환\n",
    "df = pd.read_csv('./source/part5/stock-data.csv')\n",
    "\n",
    "# 문자열인 날짜 데이터를 판다스 Timestamp로 변환\n",
    "df['new_Date'] = pd.to_datetime(df['Date'])   #df에 새로운 열로 추가\n",
    "print(df.head())\n",
    "print('\\n')\n",
    "\n",
    "# dt 속성을 이용하여 new_Date 열의 년월일 정보를 년, 월, 일로 구분\n",
    "df['Year'] = df['new_Date'].dt.year\n",
    "df['Month'] = df['new_Date'].dt.month\n",
    "df['Day'] = df['new_Date'].dt.day\n",
    "print(df.head())\n",
    "print('\\n')\n",
    "\n",
    "# Timestamp를 Period로 변환하여 년월일 표기 변경하기\n",
    "# to_period() 메소드를 적용하여 연-월-일 중 연-월 또는 연도를 추출한다. \n",
    "df['Date_yr'] = df['new_Date'].dt.to_period(freq='A')\n",
    "df['Date_m'] = df['new_Date'].dt.to_period(freq='M')\n",
    "print(df.head())\n",
    "print('\\n')\n",
    "\n",
    "# 원하는 열을 새로운 행 인덱스로 지정\n",
    "df.set_index('Date_m', inplace=True)\n",
    "print(df.head())"
   ]
  },
  {
   "source": [
    "### 날짜 인덱스 활용\n",
    "Timestamp 로 구성된 열을 행 인덱스로 지정하면 DatetimeIndex라는 고유 속성으로 변환된다. 마찬가지로 Period로 구성된 열을 행 인덱스로 지정하면 PeriodIndex라는 속성을 갖는다. "
   ],
   "cell_type": "markdown",
   "metadata": {}
  },
  {
   "cell_type": "code",
   "execution_count": 20,
   "metadata": {},
   "outputs": [
    {
     "output_type": "stream",
     "name": "stdout",
     "text": [
      "                  Date  Close  Start   High    Low  Volume  Year  Month  Day  \\\nnew_Date                                                                       \n2018-07-02  2018-07-02  10100  10850  10900  10000  137977  2018      7    2   \n2018-06-29  2018-06-29  10700  10550  10900   9990  170253  2018      6   29   \n2018-06-28  2018-06-28  10400  10900  10950  10150  155769  2018      6   28   \n2018-06-27  2018-06-27  10900  10800  11050  10500  133548  2018      6   27   \n2018-06-26  2018-06-26  10800  10900  11000  10700   63039  2018      6   26   \n\n           Date_yr  \nnew_Date            \n2018-07-02    2018  \n2018-06-29    2018  \n2018-06-28    2018  \n2018-06-27    2018  \n2018-06-26    2018  \n\n\nDatetimeIndex(['2018-07-02', '2018-06-29', '2018-06-28', '2018-06-27',\n               '2018-06-26', '2018-06-25', '2018-06-22', '2018-06-21',\n               '2018-06-20', '2018-06-19', '2018-06-18', '2018-06-15',\n               '2018-06-14', '2018-06-12', '2018-06-11', '2018-06-08',\n               '2018-06-07', '2018-06-05', '2018-06-04', '2018-06-01'],\n              dtype='datetime64[ns]', name='new_Date', freq=None)\n\n\n"
     ]
    }
   ],
   "source": [
    "\n",
    "# 문자열인 날짜 데이터를 판다스 Timestamp로 변환\n",
    "df['new_Date'] = pd.to_datetime(df['Date'])   # 새로운 열에 추가\n",
    "df.set_index('new_Date', inplace=True)        # 행 인덱스로 지정\n",
    "\n",
    "print(df.head())\n",
    "print('\\n')\n",
    "print(df.index)\n",
    "print('\\n')"
   ]
  },
  {
   "cell_type": "code",
   "execution_count": 21,
   "metadata": {},
   "outputs": [
    {
     "output_type": "stream",
     "name": "stdout",
     "text": [
      "                  Date  Close  Start   High    Low  Volume  Year  Month  Day  \\\n",
      "new_Date                                                                       \n",
      "2018-07-02  2018-07-02  10100  10850  10900  10000  137977  2018      7    2   \n",
      "2018-06-29  2018-06-29  10700  10550  10900   9990  170253  2018      6   29   \n",
      "2018-06-28  2018-06-28  10400  10900  10950  10150  155769  2018      6   28   \n",
      "2018-06-27  2018-06-27  10900  10800  11050  10500  133548  2018      6   27   \n",
      "2018-06-26  2018-06-26  10800  10900  11000  10700   63039  2018      6   26   \n",
      "\n",
      "           Date_yr  \n",
      "new_Date            \n",
      "2018-07-02    2018  \n",
      "2018-06-29    2018  \n",
      "2018-06-28    2018  \n",
      "2018-06-27    2018  \n",
      "2018-06-26    2018  \n",
      "\n",
      "\n",
      "                  Date  Close  Start   High    Low  Volume  Year  Month  Day  \\\n",
      "new_Date                                                                       \n",
      "2018-07-02  2018-07-02  10100  10850  10900  10000  137977  2018      7    2   \n",
      "\n",
      "           Date_yr  \n",
      "new_Date            \n",
      "2018-07-02    2018  \n",
      "\n",
      "\n",
      "            Start   High\n",
      "new_Date                \n",
      "2018-07-02  10850  10900\n",
      "\n",
      "\n",
      "                  Date  Close  Start   High    Low  Volume  Year  Month  Day  \\\n",
      "new_Date                                                                       \n",
      "2018-07-02  2018-07-02  10100  10850  10900  10000  137977  2018      7    2   \n",
      "\n",
      "           Date_yr  \n",
      "new_Date            \n",
      "2018-07-02    2018  \n",
      "\n",
      "\n",
      "                  Date  Close  Start   High    Low  Volume  Year  Month  Day  \\\n",
      "new_Date                                                                       \n",
      "2018-06-25  2018-06-25  11150  11400  11450  11000   55519  2018      6   25   \n",
      "2018-06-22  2018-06-22  11300  11250  11450  10750  134805  2018      6   22   \n",
      "2018-06-21  2018-06-21  11200  11350  11750  11200  133002  2018      6   21   \n",
      "2018-06-20  2018-06-20  11550  11200  11600  10900  308596  2018      6   20   \n",
      "\n",
      "           Date_yr  \n",
      "new_Date            \n",
      "2018-06-25    2018  \n",
      "2018-06-22    2018  \n",
      "2018-06-21    2018  \n",
      "2018-06-20    2018  \n",
      "\n",
      "\n"
     ]
    }
   ],
   "source": [
    "# 날짜 인덱스를 이용하여 데이터 선택하기\n",
    "df_y = df['2018']\n",
    "print(df_y.head())\n",
    "print('\\n')\n",
    "df_ym = df.loc['2018-07']    # loc 인덱서 활용\n",
    "print(df_ym)\n",
    "print('\\n')\n",
    "df_ym_cols = df.loc['2018-07', 'Start':'High']    # 열 범위 슬라이싱\n",
    "print(df_ym_cols)\n",
    "print('\\n')\n",
    "df_ymd = df['2018-07-02']\n",
    "print(df_ymd)\n",
    "print('\\n')\n",
    "df_ymd_range = df['2018-06-25':'2018-06-20']    # 날짜 범위 지정\n",
    "print(df_ymd_range)\n",
    "print('\\n')"
   ]
  },
  {
   "cell_type": "code",
   "execution_count": 22,
   "metadata": {},
   "outputs": [
    {
     "output_type": "stream",
     "name": "stdout",
     "text": [
      "                  Date  Close  Start   High    Low  Volume  Year  Month  Day  \\\ntime_delta                                                                     \n180 days    2018-06-28  10400  10900  10950  10150  155769  2018      6   28   \n181 days    2018-06-27  10900  10800  11050  10500  133548  2018      6   27   \n182 days    2018-06-26  10800  10900  11000  10700   63039  2018      6   26   \n183 days    2018-06-25  11150  11400  11450  11000   55519  2018      6   25   \n186 days    2018-06-22  11300  11250  11450  10750  134805  2018      6   22   \n187 days    2018-06-21  11200  11350  11750  11200  133002  2018      6   21   \n188 days    2018-06-20  11550  11200  11600  10900  308596  2018      6   20   \n189 days    2018-06-19  11300  11850  11950  11300  180656  2018      6   19   \n\n           Date_yr  \ntime_delta          \n180 days      2018  \n181 days      2018  \n182 days      2018  \n183 days      2018  \n186 days      2018  \n187 days      2018  \n188 days      2018  \n189 days      2018  \n"
     ]
    }
   ],
   "source": [
    "# 시간 간격 계산. 최근 180일 ~ 189일 사이의 값들만 선택하기\n",
    "today = pd.to_datetime('2018-12-25')            # 기준일 생성\n",
    "df['time_delta'] = today - df.index             # 날짜 차이 계산\n",
    "df.set_index('time_delta', inplace=True)        # 행 인덱스로 지정\n",
    "df_180 = df['180 days':'189 days']\n",
    "print(df_180)"
   ]
  },
  {
   "cell_type": "code",
   "execution_count": null,
   "metadata": {},
   "outputs": [],
   "source": []
  }
 ]
}