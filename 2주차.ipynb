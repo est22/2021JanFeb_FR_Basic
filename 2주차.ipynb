{
 "metadata": {
  "language_info": {
   "codemirror_mode": {
    "name": "ipython",
    "version": 3
   },
   "file_extension": ".py",
   "mimetype": "text/x-python",
   "name": "python",
   "nbconvert_exporter": "python",
   "pygments_lexer": "ipython3",
   "version": "3.8.3-final"
  },
  "orig_nbformat": 2,
  "kernelspec": {
   "name": "python3",
   "display_name": "Python 3",
   "language": "python"
  }
 },
 "nbformat": 4,
 "nbformat_minor": 2,
 "cells": [
  {
   "source": [
    "# 3. 인덱스 활용\n",
    "## * 특정 열을 행 인덱스로 설정\n",
    "set_index() : 데이터프레임의 특정 열을 행 인덱스로 설정.\n",
    "\n",
    "\n",
    "기존 객체 변경 없이 새로운 데이터프레임 객체를 반환"
   ],
   "cell_type": "markdown",
   "metadata": {}
  },
  {
   "cell_type": "code",
   "execution_count": 87,
   "metadata": {},
   "outputs": [
    {
     "output_type": "stream",
     "name": "stdout",
     "text": [
      "   이름  수학  영어   음악   체육\n0  서준  90  98   85  100\n1  우현  80  89   95   90\n2  인아  70  95  100   90\n\n\n"
     ]
    }
   ],
   "source": [
    "# -*- coding: utf-8 -*-\n",
    "import pandas as pd\n",
    "\n",
    "# 데이터 프레임으로 전환하기 : DataFrame() 사용.\n",
    "exam_data = {'이름' : [ '서준', '우현', '인아'],\n",
    "             '수학' : [ 90, 80, 70],\n",
    "             '영어' : [ 98, 89, 95],\n",
    "             '음악' : [ 85, 95, 100],\n",
    "             '체육' : [ 100, 90, 90]}\n",
    "df = pd.DataFrame(exam_data)\n",
    "print(df)\n",
    "print('\\n')"
   ]
  },
  {
   "cell_type": "code",
   "execution_count": 88,
   "metadata": {},
   "outputs": [
    {
     "output_type": "stream",
     "name": "stdout",
     "text": [
      "    수학  영어   음악   체육\n이름                  \n서준  90  98   85  100\n우현  80  89   95   90\n인아  70  95  100   90\n\n\n     수학  영어   체육\n음악              \n85   90  98  100\n95   80  89   90\n100  70  95   90\n\n\n        영어   체육\n수학 음악          \n90 85   98  100\n80 95   89   90\n70 100  95   90\n"
     ]
    }
   ],
   "source": [
    "# 특정 열을 데이터프레임의 행 인덱스로 설정 : set_index() 사용.\n",
    "ndf = df.set_index(['이름'])\n",
    "print(ndf)\n",
    "print('\\n')\n",
    "\n",
    "ndf2 = ndf.set_index('음악')\n",
    "print(ndf2)\n",
    "print('\\n')\n",
    "\n",
    "ndf3 = ndf.set_index(['수학', '음악']) # 멀티인덱스\n",
    "print(ndf3)"
   ]
  },
  {
   "source": [
    "### 원본 데이터프레임(df)에 변경사항을 적용하려면?"
   ],
   "cell_type": "markdown",
   "metadata": {}
  },
  {
   "cell_type": "code",
   "execution_count": 89,
   "metadata": {},
   "outputs": [
    {
     "output_type": "stream",
     "name": "stdout",
     "text": [
      "<원본 데이터프레임> \n\n    이름  수학  영어   음악   체육\n0  서준  90  98   85  100\n1  우현  80  89   95   90\n2  인아  70  95  100   90 \n\n<변경된 데이터프레임> \n\n     수학  영어   음악   체육\n이름                  \n서준  90  98   85  100\n우현  80  89   95   90\n인아  70  95  100   90 \n\n"
     ]
    }
   ],
   "source": [
    "\n",
    "print('<원본 데이터프레임> \\n\\n',df,'\\n')\n",
    "df.set_index(['이름'], inplace=True)\n",
    "#df = df.set_index(['이름'])\n",
    "print('<변경된 데이터프레임> \\n\\n',df,'\\n')\n"
   ]
  },
  {
   "source": [
    "## * 행 인덱스 재배열\n",
    "reindex() : df의 행 인덱스를 새로운 배열로 재지정.\n",
    "\n",
    "기존 객체 변경 없이 새로운 데이터프레임 객체를 반환"
   ],
   "cell_type": "markdown",
   "metadata": {}
  },
  {
   "cell_type": "code",
   "execution_count": 90,
   "metadata": {},
   "outputs": [
    {
     "output_type": "stream",
     "name": "stdout",
     "text": [
      "< 기존 데이터프레임> \n\n         삼성전자     현대차     카카오   박셀바이오    LG전자\n1월 8일  88800  246000  434000  229700  147500\n1월 7일  82900  206000  402000  269500   15000\n1월 6일  82200  203000  395500  260200  137500 \n\n"
     ]
    }
   ],
   "source": [
    "import pandas as pandas\n",
    "\n",
    "closing_price_dict = {'삼성전자':[88800,82900,82200],'현대차':[246000,206000,203000],'카카오':[434000,402000,395500],'박셀바이오':[229700,269500,260200],'LG전자':[147500,15000,137500]}\n",
    "\n",
    "# 딕셔너리를 데이터프레임으로 변환\n",
    "df = pd.DataFrame(closing_price_dict, index=['1월 8일','1월 7일','1월 6일'])\n",
    "print('< 기존 데이터프레임> \\n\\n',df,'\\n')"
   ]
  },
  {
   "cell_type": "code",
   "execution_count": 91,
   "metadata": {},
   "outputs": [
    {
     "output_type": "stream",
     "name": "stdout",
     "text": [
      "< 인덱스가 추가된 새로운 데이터프레임(ndf) >\n\n           삼성전자       현대차       카카오     박셀바이오      LG전자\n1월 8일  88800.0  246000.0  434000.0  229700.0  147500.0\n1월 7일  82900.0  206000.0  402000.0  269500.0   15000.0\n1월 6일  82200.0  203000.0  395500.0  260200.0  137500.0\n1월 5일      NaN       NaN       NaN       NaN       NaN\n1월 4일      NaN       NaN       NaN       NaN       NaN \n\n"
     ]
    }
   ],
   "source": [
    "new_index = ['1월 8일','1월 7일','1월 6일','1월 5일','1월 4일']\n",
    "ndf = df.reindex(new_index)\n",
    "\n",
    "print('< 인덱스가 추가된 새로운 데이터프레임(ndf) >\\n\\n',ndf,'\\n')\n"
   ]
  },
  {
   "source": [
    "if you get at least one NaN value in some column, int is converted to float."
   ],
   "cell_type": "markdown",
   "metadata": {}
  },
  {
   "cell_type": "code",
   "execution_count": 92,
   "metadata": {},
   "outputs": [
    {
     "output_type": "stream",
     "name": "stdout",
     "text": [
      "< 값을 채운 새로운 데이터프레임(ndf) >\n\n         삼성전자     현대차     카카오   박셀바이오    LG전자\n1월 8일  88800  246000  434000  229700  147500\n1월 7일  82900  206000  402000  269500   15000\n1월 6일  82200  203000  395500  260200  137500\n1월 5일  .....   .....   .....   .....   .....\n1월 4일  .....   .....   .....   .....   ..... \n\n"
     ]
    }
   ],
   "source": [
    "ndf = df.reindex(new_index, fill_value='.....')\n",
    "\n",
    "print('< 값을 채운 새로운 데이터프레임(ndf) >\\n\\n',ndf,'\\n')"
   ]
  },
  {
   "source": [
    "## * 행 인덱스 초기화\n",
    "reset_index() : 행 인덱스를 정수형 위치 인덱스로 초기화.\n",
    "\n",
    "기존 행 인덱스는 열로 이동\n",
    "\n",
    "새로운 데이터프레임 객체를 반환"
   ],
   "cell_type": "markdown",
   "metadata": {}
  },
  {
   "cell_type": "code",
   "execution_count": 93,
   "metadata": {},
   "outputs": [
    {
     "output_type": "stream",
     "name": "stdout",
     "text": [
      "< 직전 ndf의 모습 >\n\n         삼성전자     현대차     카카오   박셀바이오    LG전자\n1월 8일  88800  246000  434000  229700  147500\n1월 7일  82900  206000  402000  269500   15000\n1월 6일  82200  203000  395500  260200  137500\n1월 5일  .....   .....   .....   .....   .....\n1월 4일  .....   .....   .....   .....   ..... \n\n\n< 초기화한 ndf의 모습 >\n\n    index   삼성전자     현대차     카카오   박셀바이오    LG전자\n0  1월 8일  88800  246000  434000  229700  147500\n1  1월 7일  82900  206000  402000  269500   15000\n2  1월 6일  82200  203000  395500  260200  137500\n3  1월 5일  .....   .....   .....   .....   .....\n4  1월 4일  .....   .....   .....   .....   .....\n"
     ]
    }
   ],
   "source": [
    "print(\"< 직전 ndf의 모습 >\\n\\n\",ndf,'\\n\\n')\n",
    "\n",
    "ndf = ndf.reset_index()\n",
    "print(\"< 초기화한 ndf의 모습 >\\n\\n\",ndf)"
   ]
  },
  {
   "source": [
    "## * 행 인덱스를 기준으로 데이터프레임 정렬\n",
    "sort_index() : 행 인덱스를 기준으로 데이터프레임 값을 정렬.\n",
    "\n",
    "ascending = True / False 옵션을 사용하여 오름차순 혹은 내림차순을 설정.\n",
    "\n",
    "새롭게 정렬된 데이터프레임을 반환"
   ],
   "cell_type": "markdown",
   "metadata": {}
  },
  {
   "cell_type": "code",
   "execution_count": 94,
   "metadata": {},
   "outputs": [
    {
     "output_type": "stream",
     "name": "stdout",
     "text": [
      "default: 행 인덱스가 오름차순으로 정렬된 데이터프레임\n\n     c0  c1  c2  c3  c4\nr0   1   4   7  10  13\nr1   2   5   8  11  14\nr2   3   6   9  12  15\n\n\n\n행 인덱스가 내림차순으로 정렬된 데이터프레임\n\n     c0  c1  c2  c3  c4\nr2   3   6   9  12  15\nr1   2   5   8  11  14\nr0   1   4   7  10  13\n"
     ]
    }
   ],
   "source": [
    "import pandas as pd\n",
    "\n",
    "# 딕셔서리를 정의\n",
    "dict_data = {'c0':[1,2,3], 'c1':[4,5,6], 'c2':[7,8,9], 'c3':[10,11,12], 'c4':[13,14,15]}\n",
    "\n",
    "# 딕셔서리를 데이터프레임으로 변환. 인덱스를 [r0, r1, r2]로 지정\n",
    "df = pd.DataFrame(dict_data, index=['r0', 'r1', 'r2'])\n",
    "print(\"default: 행 인덱스가 오름차순으로 정렬된 데이터프레임\\n\\n\",df)\n",
    "\n",
    "# 내림차순으로 행 인덱스 정렬 \n",
    "ndf = df.sort_index(ascending=False)\n",
    "print(\"\\n\\n\\n행 인덱스가 내림차순으로 정렬된 데이터프레임\\n\\n\",ndf)"
   ]
  },
  {
   "source": [
    "## * 특정 열의 데이터 값을 기준으로 데이터프레임 정렬하기\n",
    "sort_values() : 특정 열의 데이터를 기준으로 데이터프레임을 정렬.\n"
   ],
   "cell_type": "markdown",
   "metadata": {}
  },
  {
   "cell_type": "code",
   "execution_count": 101,
   "metadata": {},
   "outputs": [
    {
     "output_type": "stream",
     "name": "stdout",
     "text": [
      "    c0  c1  c2  c3  c4\nr0   1   6   7  10  13\nr1   2   5   8  11  14\nr2   3   4   9  12  15\n    c0  c1  c2  c3  c4\nr0   1   6   7  10  13\nr1   2   5   8  11  14\nr2   3   4   9  12  15\n    c0  c1  c2  c3  c4\nr2   3   4   9  12  15\nr1   2   5   8  11  14\nr0   1   6   7  10  13\n"
     ]
    }
   ],
   "source": [
    "\n",
    "# 딕셔서리를 정의\n",
    "dict_data = {'c0':[1,2,3], 'c1':[6,5,4], 'c2':[7,8,9], 'c3':[10,11,12], 'c4':[13,14,15]}\n",
    "\n",
    "# 딕셔서리를 데이터프레임으로 변환. 인덱스를 [r0, r1, r2]로 지정\n",
    "df = pd.DataFrame(dict_data, index=['r0', 'r1', 'r2'])\n",
    "print(df)\n",
    "\n",
    "ndf = df.sort_values(by='c1', ascending = False)\n",
    "print(ndf)\n",
    "\n",
    "ndf = df.sort_values(by='c1', ascending = True)\n",
    "print(ndf)"
   ]
  },
  {
   "cell_type": "code",
   "execution_count": null,
   "metadata": {},
   "outputs": [],
   "source": []
  }
 ]
}